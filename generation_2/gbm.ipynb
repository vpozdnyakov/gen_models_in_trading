{
 "cells": [
  {
   "cell_type": "markdown",
   "metadata": {},
   "source": [
    "# Geometric Brownian Motion"
   ]
  },
  {
   "cell_type": "code",
   "execution_count": 1,
   "metadata": {},
   "outputs": [],
   "source": [
    "import numpy as np\n",
    "import pandas as pd\n",
    "import matplotlib.pyplot as plt\n",
    "from datetime import datetime"
   ]
  },
  {
   "cell_type": "code",
   "execution_count": 2,
   "metadata": {},
   "outputs": [
    {
     "data": {
      "text/html": [
       "<div>\n",
       "<style scoped>\n",
       "    .dataframe tbody tr th:only-of-type {\n",
       "        vertical-align: middle;\n",
       "    }\n",
       "\n",
       "    .dataframe tbody tr th {\n",
       "        vertical-align: top;\n",
       "    }\n",
       "\n",
       "    .dataframe thead th {\n",
       "        text-align: right;\n",
       "    }\n",
       "</style>\n",
       "<table border=\"1\" class=\"dataframe\">\n",
       "  <thead>\n",
       "    <tr style=\"text-align: right;\">\n",
       "      <th></th>\n",
       "      <th>brent</th>\n",
       "      <th>crude</th>\n",
       "      <th>gasoline</th>\n",
       "      <th>heating</th>\n",
       "      <th>gas</th>\n",
       "      <th>natural</th>\n",
       "    </tr>\n",
       "    <tr>\n",
       "      <th>date</th>\n",
       "      <th></th>\n",
       "      <th></th>\n",
       "      <th></th>\n",
       "      <th></th>\n",
       "      <th></th>\n",
       "      <th></th>\n",
       "    </tr>\n",
       "  </thead>\n",
       "  <tbody>\n",
       "    <tr>\n",
       "      <th>2008-01-02</th>\n",
       "      <td>-0.002453</td>\n",
       "      <td>-0.004417</td>\n",
       "      <td>-0.001007</td>\n",
       "      <td>-0.007773</td>\n",
       "      <td>0.006433</td>\n",
       "      <td>-0.022420</td>\n",
       "    </tr>\n",
       "    <tr>\n",
       "      <th>2008-01-03</th>\n",
       "      <td>-0.008299</td>\n",
       "      <td>-0.012805</td>\n",
       "      <td>-0.004679</td>\n",
       "      <td>-0.013093</td>\n",
       "      <td>-0.016270</td>\n",
       "      <td>0.021762</td>\n",
       "    </tr>\n",
       "    <tr>\n",
       "      <th>2008-01-04</th>\n",
       "      <td>-0.024796</td>\n",
       "      <td>-0.028802</td>\n",
       "      <td>-0.028853</td>\n",
       "      <td>-0.033538</td>\n",
       "      <td>-0.035440</td>\n",
       "      <td>0.004846</td>\n",
       "    </tr>\n",
       "    <tr>\n",
       "      <th>2008-01-07</th>\n",
       "      <td>0.012183</td>\n",
       "      <td>0.013040</td>\n",
       "      <td>0.012435</td>\n",
       "      <td>0.016503</td>\n",
       "      <td>0.027863</td>\n",
       "      <td>0.011169</td>\n",
       "    </tr>\n",
       "    <tr>\n",
       "      <th>2008-01-08</th>\n",
       "      <td>-0.012246</td>\n",
       "      <td>-0.006851</td>\n",
       "      <td>-0.015620</td>\n",
       "      <td>-0.008686</td>\n",
       "      <td>0.005958</td>\n",
       "      <td>0.016568</td>\n",
       "    </tr>\n",
       "  </tbody>\n",
       "</table>\n",
       "</div>"
      ],
      "text/plain": [
       "               brent     crude  gasoline   heating       gas   natural\n",
       "date                                                                  \n",
       "2008-01-02 -0.002453 -0.004417 -0.001007 -0.007773  0.006433 -0.022420\n",
       "2008-01-03 -0.008299 -0.012805 -0.004679 -0.013093 -0.016270  0.021762\n",
       "2008-01-04 -0.024796 -0.028802 -0.028853 -0.033538 -0.035440  0.004846\n",
       "2008-01-07  0.012183  0.013040  0.012435  0.016503  0.027863  0.011169\n",
       "2008-01-08 -0.012246 -0.006851 -0.015620 -0.008686  0.005958  0.016568"
      ]
     },
     "execution_count": 2,
     "metadata": {},
     "output_type": "execute_result"
    }
   ],
   "source": [
    "returns_train = pd.read_csv('data/returns_train.csv', index_col=0)\n",
    "returns_train.index = pd.to_datetime(returns_train.index)\n",
    "returns_train.head()"
   ]
  },
  {
   "cell_type": "markdown",
   "metadata": {},
   "source": [
    "## $\\mu$ fitting"
   ]
  },
  {
   "cell_type": "code",
   "execution_count": 3,
   "metadata": {},
   "outputs": [
    {
     "data": {
      "text/plain": [
       "brent       0.000016\n",
       "crude       0.000042\n",
       "gasoline    0.000131\n",
       "heating     0.000003\n",
       "gas        -0.000053\n",
       "natural     0.000081\n",
       "dtype: float64"
      ]
     },
     "execution_count": 3,
     "metadata": {},
     "output_type": "execute_result"
    }
   ],
   "source": [
    "mu = returns_train.mean(axis=0)\n",
    "mu"
   ]
  },
  {
   "cell_type": "markdown",
   "metadata": {},
   "source": [
    "## $\\sigma$ fitting"
   ]
  },
  {
   "cell_type": "code",
   "execution_count": 4,
   "metadata": {},
   "outputs": [
    {
     "data": {
      "text/plain": [
       "brent       0.022331\n",
       "crude       0.024827\n",
       "gasoline    0.025380\n",
       "heating     0.020604\n",
       "gas         0.018850\n",
       "natural     0.030239\n",
       "dtype: float64"
      ]
     },
     "execution_count": 4,
     "metadata": {},
     "output_type": "execute_result"
    }
   ],
   "source": [
    "sigma = returns_train.std(axis=0)\n",
    "sigma"
   ]
  },
  {
   "cell_type": "markdown",
   "metadata": {},
   "source": [
    "## Correlation fitting"
   ]
  },
  {
   "cell_type": "code",
   "execution_count": 5,
   "metadata": {},
   "outputs": [
    {
     "data": {
      "text/html": [
       "<div>\n",
       "<style scoped>\n",
       "    .dataframe tbody tr th:only-of-type {\n",
       "        vertical-align: middle;\n",
       "    }\n",
       "\n",
       "    .dataframe tbody tr th {\n",
       "        vertical-align: top;\n",
       "    }\n",
       "\n",
       "    .dataframe thead th {\n",
       "        text-align: right;\n",
       "    }\n",
       "</style>\n",
       "<table border=\"1\" class=\"dataframe\">\n",
       "  <thead>\n",
       "    <tr style=\"text-align: right;\">\n",
       "      <th></th>\n",
       "      <th>0</th>\n",
       "      <th>1</th>\n",
       "      <th>2</th>\n",
       "      <th>3</th>\n",
       "      <th>4</th>\n",
       "      <th>5</th>\n",
       "    </tr>\n",
       "  </thead>\n",
       "  <tbody>\n",
       "    <tr>\n",
       "      <th>0</th>\n",
       "      <td>1.00</td>\n",
       "      <td>0.87</td>\n",
       "      <td>0.75</td>\n",
       "      <td>0.88</td>\n",
       "      <td>0.64</td>\n",
       "      <td>0.18</td>\n",
       "    </tr>\n",
       "    <tr>\n",
       "      <th>1</th>\n",
       "      <td>0.87</td>\n",
       "      <td>1.00</td>\n",
       "      <td>0.68</td>\n",
       "      <td>0.79</td>\n",
       "      <td>0.58</td>\n",
       "      <td>0.18</td>\n",
       "    </tr>\n",
       "    <tr>\n",
       "      <th>2</th>\n",
       "      <td>0.75</td>\n",
       "      <td>0.68</td>\n",
       "      <td>1.00</td>\n",
       "      <td>0.70</td>\n",
       "      <td>0.48</td>\n",
       "      <td>0.15</td>\n",
       "    </tr>\n",
       "    <tr>\n",
       "      <th>3</th>\n",
       "      <td>0.88</td>\n",
       "      <td>0.79</td>\n",
       "      <td>0.70</td>\n",
       "      <td>1.00</td>\n",
       "      <td>0.66</td>\n",
       "      <td>0.20</td>\n",
       "    </tr>\n",
       "    <tr>\n",
       "      <th>4</th>\n",
       "      <td>0.64</td>\n",
       "      <td>0.58</td>\n",
       "      <td>0.48</td>\n",
       "      <td>0.66</td>\n",
       "      <td>1.00</td>\n",
       "      <td>0.12</td>\n",
       "    </tr>\n",
       "    <tr>\n",
       "      <th>5</th>\n",
       "      <td>0.18</td>\n",
       "      <td>0.18</td>\n",
       "      <td>0.15</td>\n",
       "      <td>0.20</td>\n",
       "      <td>0.12</td>\n",
       "      <td>1.00</td>\n",
       "    </tr>\n",
       "  </tbody>\n",
       "</table>\n",
       "</div>"
      ],
      "text/plain": [
       "      0     1     2     3     4     5\n",
       "0  1.00  0.87  0.75  0.88  0.64  0.18\n",
       "1  0.87  1.00  0.68  0.79  0.58  0.18\n",
       "2  0.75  0.68  1.00  0.70  0.48  0.15\n",
       "3  0.88  0.79  0.70  1.00  0.66  0.20\n",
       "4  0.64  0.58  0.48  0.66  1.00  0.12\n",
       "5  0.18  0.18  0.15  0.20  0.12  1.00"
      ]
     },
     "execution_count": 5,
     "metadata": {},
     "output_type": "execute_result"
    }
   ],
   "source": [
    "corr = np.corrcoef(returns_train.T)\n",
    "pd.DataFrame(corr.round(2))"
   ]
  },
  {
   "cell_type": "markdown",
   "metadata": {},
   "source": [
    "## Initial prices"
   ]
  },
  {
   "cell_type": "code",
   "execution_count": 6,
   "metadata": {},
   "outputs": [
    {
     "data": {
      "text/plain": [
       "brent        55.2300\n",
       "crude        52.7500\n",
       "gasoline      1.5667\n",
       "heating       1.6265\n",
       "gas         485.5000\n",
       "natural       3.2430\n",
       "Name: 2017-01-23 00:00:00, dtype: float64"
      ]
     },
     "execution_count": 6,
     "metadata": {},
     "output_type": "execute_result"
    }
   ],
   "source": [
    "prices = pd.read_csv('data/prices.csv', index_col=0)\n",
    "prices.index = pd.to_datetime(prices.index)\n",
    "prices.iloc[2433]"
   ]
  },
  {
   "cell_type": "markdown",
   "metadata": {},
   "source": [
    "## Generation"
   ]
  },
  {
   "cell_type": "code",
   "execution_count": 7,
   "metadata": {},
   "outputs": [],
   "source": [
    "dt = 1\n",
    "T = 1042\n",
    "N = int(T / dt)\n",
    "x0 = prices.iloc[2433].tolist()\n",
    "ts = np.arange(1, N + 1)\n",
    "n_sim = 10\n",
    "sims = []"
   ]
  },
  {
   "cell_type": "code",
   "execution_count": 8,
   "metadata": {},
   "outputs": [],
   "source": [
    "for i in range(n_sim):\n",
    "    sims.append({})\n",
    "    W_values = np.random.normal(size=(returns_train.shape[1], N))\n",
    "    W_values = (np.linalg.cholesky(corr) @ W_values).T\n",
    "    W_process = W_values.cumsum(axis=0)\n",
    "    sims[i]['W_process'] = W_process"
   ]
  },
  {
   "cell_type": "code",
   "execution_count": 9,
   "metadata": {},
   "outputs": [],
   "source": [
    "for i in range(n_sim):\n",
    "    drift = (mu - 0.5 * sigma**2).tolist() * np.tile(ts, (returns_train.shape[1], 1)).T\n",
    "    diffusion = sigma.tolist() * sims[i]['W_process']\n",
    "    sims[i]['drift'] = drift\n",
    "    sims[i]['diffusion'] = diffusion"
   ]
  },
  {
   "cell_type": "code",
   "execution_count": 10,
   "metadata": {},
   "outputs": [],
   "source": [
    "for i in range(n_sim):\n",
    "    X = x0 * np.exp(sims[i]['drift'] + sims[i]['diffusion'])\n",
    "    sims[i]['X'] = X"
   ]
  },
  {
   "cell_type": "code",
   "execution_count": 11,
   "metadata": {},
   "outputs": [
    {
     "data": {
      "image/png": "[encoded data removed]",
      "text/plain": [
       "<Figure size 720x360 with 1 Axes>"
      ]
     },
     "metadata": {
      "needs_background": "light"
     },
     "output_type": "display_data"
    }
   ],
   "source": [
    "plt.figure(figsize=(10, 5))\n",
    "for i in range(3):\n",
    "    plt.plot(sims[i]['X'], alpha = 0.3)\n",
    "plt.show()"
   ]
  },
  {
   "cell_type": "code",
   "execution_count": 12,
   "metadata": {},
   "outputs": [],
   "source": [
    "returns_list = []\n",
    "for i in range(n_sim):\n",
    "    returns_list.append(\n",
    "        (sims[i]['X'][1:] - sims[i]['X'][:-1]) / sims[i]['X'][:-1]\n",
    "    )\n",
    "gen_returns = np.concatenate(returns_list)\n",
    "pd.DataFrame(gen_returns, columns=returns_train.columns).to_csv('data/gen_gbm.csv')"
   ]
  },
  {
   "cell_type": "code",
   "execution_count": null,
   "metadata": {},
   "outputs": [],
   "source": []
  }
 ],
 "metadata": {
  "kernelspec": {
   "display_name": "Python 3",
   "language": "python",
   "name": "python3"
  },
  "language_info": {
   "codemirror_mode": {
    "name": "ipython",
    "version": 3
   },
   "file_extension": ".py",
   "mimetype": "text/x-python",
   "name": "python",
   "nbconvert_exporter": "python",
   "pygments_lexer": "ipython3",
   "version": "3.7.4"
  }
 },
 "nbformat": 4,
 "nbformat_minor": 4
}
